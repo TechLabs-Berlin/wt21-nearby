{
 "cells": [
  {
   "cell_type": "code",
   "execution_count": 2,
   "metadata": {
    "collapsed": true
   },
   "outputs": [],
   "source": [
    "import pandas as pd"
   ]
  },
  {
   "cell_type": "code",
   "execution_count": 3,
   "outputs": [],
   "source": [
    "data = pd.read_csv('data.csv', delimiter = ';')"
   ],
   "metadata": {
    "collapsed": false,
    "pycharm": {
     "name": "#%%\n"
    }
   }
  },
  {
   "cell_type": "code",
   "execution_count": 4,
   "outputs": [
    {
     "data": {
      "text/plain": "       id                                           anbieter  \\\n0    1024                            1. FC Union Berlin e.V.   \n1     355                     ABZ im Bürgerhaus Altglienicke   \n2     160                          ACTivity Schauspielschule   \n3     214                                           ACUDkino   \n4     250                                  Adria Filmtheater   \n..    ...                                                ...   \n361   172  Zentrum für sexuelle Gesundheit und Familienpl...   \n362   607      Zeughauskino im Deutschen Historischen Museum   \n363   889                                  Zitadelle Spandau   \n364   961                                         Zoo Berlin   \n365   328       „Stars in Concert“ im Estrel Festival Center   \n\n                        kurzbeschreibung_des_angebotes  \\\n0    Ermäßigungen bei allen Fußballspielen im Stadi...   \n1    25 % bis 35 % Ermäßigung auf den Eintrittsprei...   \n2       10 Euro Ermäßigung auf die Unterrichtsgebühren   \n3       Ermäßigter Eintritt zu allen Kinovorstellungen   \n4    Ermäßigter Eintritt Montag bis Mittwoch, zzgl....   \n..                                                 ...   \n361  Berlinpass-Inhaber*innen können die Kostenüber...   \n362                                ermäßigter Eintritt   \n363                                ermäßigter Eintritt   \n364  ermäßigter Tageseintritt bzw. ermäßigte Jahres...   \n365  Mittwoch bis Sonntag Sonderpreis 18 Euro (der ...   \n\n                                               website  \\\n0                    http://www.fc-union-berlin.de/de/   \n1              http://www.buergerhaus-altglienicke.de/   \n2                      www.activityschauspielschule.de   \n3                                 https://acudkino.de/   \n4                                      www.cineplex.de   \n..                                                 ...   \n361  https://www.berlin.de/ba-mitte/politik-und-ver...   \n362                   https://www.dhm.de/zeughauskino/   \n363                           www.zitadelle-spandau.de   \n364                                  www.zoo-berlin.de   \n365                           www.stars-in-concert.de/   \n\n                              zeitliche_begrenzung  \\\n0                                              NaN   \n1                                              NaN   \n2                                              NaN   \n3                                              NaN   \n4                                              NaN   \n..                                             ...   \n361                                            NaN   \n362                                            NaN   \n363                                            NaN   \n364                                          keine   \n365  Das Angebot ist gültig bis 8. September 2023.   \n\n                                                 preis  \\\n0      ab 9 Euro (je nach Verfügbarkeit der Kategorie)   \n1                                                  NaN   \n2                                       siehe Homepage   \n3    Erwachsene 6,00 Euro, Kinder/Jugendliche bis 1...   \n4                                                  NaN   \n..                                                 ...   \n361      kostenfrei nach Einkommensprüfung s. Webseite   \n362  Bei Vorlage des Berlinpasses erhalten Berlinpa...   \n363                                          2,50 Euro   \n364                        siehe zoo-berlin.de/tickets   \n365         18 Euro (s. Kurzbeschreibung des Angebots)   \n\n                         bezirk  \\\n0              Treptow-Köpenick   \n1              Treptow-Köpenick   \n2                       Potsdam   \n3                         Mitte   \n4           Steglitz-Zehlendorf   \n..                          ...   \n361                       Mitte   \n362                       Mitte   \n363                     Spandau   \n364  Charlottenburg-Wilmersdorf   \n365                    Neukölln   \n\n                                           schlagworte  \n0                               Sport & Spiel, Familie  \n1    Kultur, Konzert, Literatur & Lesungen, Seniore...  \n2                                     Theater, Bildung  \n3                                Kino, Kultur, Familie  \n4                                Kino, Kultur, Familie  \n..                                                 ...  \n361                               Gesundheit, Beratung  \n362  Kultur, Museum & Ausstellung, Kino, Bildung, G...  \n363  Museum & Ausstellung, Kultur, Geschichte, Bild...  \n364  Natur & Erholung, Familie, Bildung, Museum & A...  \n365                           Kultur, Konzert, Familie  \n\n[366 rows x 8 columns]",
      "text/html": "<div>\n<style scoped>\n    .dataframe tbody tr th:only-of-type {\n        vertical-align: middle;\n    }\n\n    .dataframe tbody tr th {\n        vertical-align: top;\n    }\n\n    .dataframe thead th {\n        text-align: right;\n    }\n</style>\n<table border=\"1\" class=\"dataframe\">\n  <thead>\n    <tr style=\"text-align: right;\">\n      <th></th>\n      <th>id</th>\n      <th>anbieter</th>\n      <th>kurzbeschreibung_des_angebotes</th>\n      <th>website</th>\n      <th>zeitliche_begrenzung</th>\n      <th>preis</th>\n      <th>bezirk</th>\n      <th>schlagworte</th>\n    </tr>\n  </thead>\n  <tbody>\n    <tr>\n      <th>0</th>\n      <td>1024</td>\n      <td>1. FC Union Berlin e.V.</td>\n      <td>Ermäßigungen bei allen Fußballspielen im Stadi...</td>\n      <td>http://www.fc-union-berlin.de/de/</td>\n      <td>NaN</td>\n      <td>ab 9 Euro (je nach Verfügbarkeit der Kategorie)</td>\n      <td>Treptow-Köpenick</td>\n      <td>Sport &amp; Spiel, Familie</td>\n    </tr>\n    <tr>\n      <th>1</th>\n      <td>355</td>\n      <td>ABZ im Bürgerhaus Altglienicke</td>\n      <td>25 % bis 35 % Ermäßigung auf den Eintrittsprei...</td>\n      <td>http://www.buergerhaus-altglienicke.de/</td>\n      <td>NaN</td>\n      <td>NaN</td>\n      <td>Treptow-Köpenick</td>\n      <td>Kultur, Konzert, Literatur &amp; Lesungen, Seniore...</td>\n    </tr>\n    <tr>\n      <th>2</th>\n      <td>160</td>\n      <td>ACTivity Schauspielschule</td>\n      <td>10 Euro Ermäßigung auf die Unterrichtsgebühren</td>\n      <td>www.activityschauspielschule.de</td>\n      <td>NaN</td>\n      <td>siehe Homepage</td>\n      <td>Potsdam</td>\n      <td>Theater, Bildung</td>\n    </tr>\n    <tr>\n      <th>3</th>\n      <td>214</td>\n      <td>ACUDkino</td>\n      <td>Ermäßigter Eintritt zu allen Kinovorstellungen</td>\n      <td>https://acudkino.de/</td>\n      <td>NaN</td>\n      <td>Erwachsene 6,00 Euro, Kinder/Jugendliche bis 1...</td>\n      <td>Mitte</td>\n      <td>Kino, Kultur, Familie</td>\n    </tr>\n    <tr>\n      <th>4</th>\n      <td>250</td>\n      <td>Adria Filmtheater</td>\n      <td>Ermäßigter Eintritt Montag bis Mittwoch, zzgl....</td>\n      <td>www.cineplex.de</td>\n      <td>NaN</td>\n      <td>NaN</td>\n      <td>Steglitz-Zehlendorf</td>\n      <td>Kino, Kultur, Familie</td>\n    </tr>\n    <tr>\n      <th>...</th>\n      <td>...</td>\n      <td>...</td>\n      <td>...</td>\n      <td>...</td>\n      <td>...</td>\n      <td>...</td>\n      <td>...</td>\n      <td>...</td>\n    </tr>\n    <tr>\n      <th>361</th>\n      <td>172</td>\n      <td>Zentrum für sexuelle Gesundheit und Familienpl...</td>\n      <td>Berlinpass-Inhaber*innen können die Kostenüber...</td>\n      <td>https://www.berlin.de/ba-mitte/politik-und-ver...</td>\n      <td>NaN</td>\n      <td>kostenfrei nach Einkommensprüfung s. Webseite</td>\n      <td>Mitte</td>\n      <td>Gesundheit, Beratung</td>\n    </tr>\n    <tr>\n      <th>362</th>\n      <td>607</td>\n      <td>Zeughauskino im Deutschen Historischen Museum</td>\n      <td>ermäßigter Eintritt</td>\n      <td>https://www.dhm.de/zeughauskino/</td>\n      <td>NaN</td>\n      <td>Bei Vorlage des Berlinpasses erhalten Berlinpa...</td>\n      <td>Mitte</td>\n      <td>Kultur, Museum &amp; Ausstellung, Kino, Bildung, G...</td>\n    </tr>\n    <tr>\n      <th>363</th>\n      <td>889</td>\n      <td>Zitadelle Spandau</td>\n      <td>ermäßigter Eintritt</td>\n      <td>www.zitadelle-spandau.de</td>\n      <td>NaN</td>\n      <td>2,50 Euro</td>\n      <td>Spandau</td>\n      <td>Museum &amp; Ausstellung, Kultur, Geschichte, Bild...</td>\n    </tr>\n    <tr>\n      <th>364</th>\n      <td>961</td>\n      <td>Zoo Berlin</td>\n      <td>ermäßigter Tageseintritt bzw. ermäßigte Jahres...</td>\n      <td>www.zoo-berlin.de</td>\n      <td>keine</td>\n      <td>siehe zoo-berlin.de/tickets</td>\n      <td>Charlottenburg-Wilmersdorf</td>\n      <td>Natur &amp; Erholung, Familie, Bildung, Museum &amp; A...</td>\n    </tr>\n    <tr>\n      <th>365</th>\n      <td>328</td>\n      <td>„Stars in Concert“ im Estrel Festival Center</td>\n      <td>Mittwoch bis Sonntag Sonderpreis 18 Euro (der ...</td>\n      <td>www.stars-in-concert.de/</td>\n      <td>Das Angebot ist gültig bis 8. September 2023.</td>\n      <td>18 Euro (s. Kurzbeschreibung des Angebots)</td>\n      <td>Neukölln</td>\n      <td>Kultur, Konzert, Familie</td>\n    </tr>\n  </tbody>\n</table>\n<p>366 rows × 8 columns</p>\n</div>"
     },
     "execution_count": 4,
     "metadata": {},
     "output_type": "execute_result"
    }
   ],
   "source": [
    "data"
   ],
   "metadata": {
    "collapsed": false,
    "pycharm": {
     "name": "#%%\n"
    }
   }
  },
  {
   "cell_type": "code",
   "execution_count": 11,
   "outputs": [
    {
     "data": {
      "text/plain": "array(['Treptow-Köpenick', 'Potsdam', 'Mitte', 'Steglitz-Zehlendorf',\n       'Friedrichshain-Kreuzberg', 'Charlottenburg-Wilmersdorf', 'Pankow',\n       'Kreuzberg', 'Berlin mehrere Orte', 'Lichtenberg',\n       'Tempelhof-Schöneberg', 'Marzahn-Hellersdorf', 'Neukölln',\n       'Reinickendorf', 'Spandau', 'alle', 'Oranienburg',\n       'Tempelhof-Schöneberg| Wilmersdorf'], dtype=object)"
     },
     "execution_count": 11,
     "metadata": {},
     "output_type": "execute_result"
    }
   ],
   "source": [
    "data.bezirk.unique()"
   ],
   "metadata": {
    "collapsed": false,
    "pycharm": {
     "name": "#%%\n"
    }
   }
  },
  {
   "cell_type": "code",
   "execution_count": 12,
   "outputs": [
    {
     "data": {
      "text/plain": "       id                                           anbieter  \\\n0    1024                            1. FC Union Berlin e.V.   \n1     355                     ABZ im Bürgerhaus Altglienicke   \n2     160                          ACTivity Schauspielschule   \n3     214                                           ACUDkino   \n4     250                                  Adria Filmtheater   \n..    ...                                                ...   \n361   172  Zentrum für sexuelle Gesundheit und Familienpl...   \n362   607      Zeughauskino im Deutschen Historischen Museum   \n363   889                                  Zitadelle Spandau   \n364   961                                         Zoo Berlin   \n365   328       „Stars in Concert“ im Estrel Festival Center   \n\n                        kurzbeschreibung_des_angebotes  \\\n0    Ermäßigungen bei allen Fußballspielen im Stadi...   \n1    25 % bis 35 % Ermäßigung auf den Eintrittsprei...   \n2       10 Euro Ermäßigung auf die Unterrichtsgebühren   \n3       Ermäßigter Eintritt zu allen Kinovorstellungen   \n4    Ermäßigter Eintritt Montag bis Mittwoch, zzgl....   \n..                                                 ...   \n361  Berlinpass-Inhaber*innen können die Kostenüber...   \n362                                ermäßigter Eintritt   \n363                                ermäßigter Eintritt   \n364  ermäßigter Tageseintritt bzw. ermäßigte Jahres...   \n365  Mittwoch bis Sonntag Sonderpreis 18 Euro (der ...   \n\n                                               website  \\\n0                    http://www.fc-union-berlin.de/de/   \n1              http://www.buergerhaus-altglienicke.de/   \n2                      www.activityschauspielschule.de   \n3                                 https://acudkino.de/   \n4                                      www.cineplex.de   \n..                                                 ...   \n361  https://www.berlin.de/ba-mitte/politik-und-ver...   \n362                   https://www.dhm.de/zeughauskino/   \n363                           www.zitadelle-spandau.de   \n364                                  www.zoo-berlin.de   \n365                           www.stars-in-concert.de/   \n\n                              zeitliche_begrenzung  \\\n0                                              NaN   \n1                                              NaN   \n2                                              NaN   \n3                                              NaN   \n4                                              NaN   \n..                                             ...   \n361                                            NaN   \n362                                            NaN   \n363                                            NaN   \n364                                          keine   \n365  Das Angebot ist gültig bis 8. September 2023.   \n\n                                                 preis  \\\n0      ab 9 Euro (je nach Verfügbarkeit der Kategorie)   \n1                                                  NaN   \n2                                       siehe Homepage   \n3    Erwachsene 6,00 Euro, Kinder/Jugendliche bis 1...   \n4                                                  NaN   \n..                                                 ...   \n361      kostenfrei nach Einkommensprüfung s. Webseite   \n362  Bei Vorlage des Berlinpasses erhalten Berlinpa...   \n363                                          2,50 Euro   \n364                        siehe zoo-berlin.de/tickets   \n365         18 Euro (s. Kurzbeschreibung des Angebots)   \n\n                         bezirk  \\\n0              Treptow-Köpenick   \n1              Treptow-Köpenick   \n2                       Potsdam   \n3                         Mitte   \n4           Steglitz-Zehlendorf   \n..                          ...   \n361                       Mitte   \n362                       Mitte   \n363                     Spandau   \n364  Charlottenburg-Wilmersdorf   \n365                    Neukölln   \n\n                                           schlagworte  \n0                               Sport & Spiel, Familie  \n1    Kultur, Konzert, Literatur & Lesungen, Seniore...  \n2                                     Theater, Bildung  \n3                                Kino, Kultur, Familie  \n4                                Kino, Kultur, Familie  \n..                                                 ...  \n361                               Gesundheit, Beratung  \n362  Kultur, Museum & Ausstellung, Kino, Bildung, G...  \n363  Museum & Ausstellung, Kultur, Geschichte, Bild...  \n364  Natur & Erholung, Familie, Bildung, Museum & A...  \n365                           Kultur, Konzert, Familie  \n\n[366 rows x 8 columns]",
      "text/html": "<div>\n<style scoped>\n    .dataframe tbody tr th:only-of-type {\n        vertical-align: middle;\n    }\n\n    .dataframe tbody tr th {\n        vertical-align: top;\n    }\n\n    .dataframe thead th {\n        text-align: right;\n    }\n</style>\n<table border=\"1\" class=\"dataframe\">\n  <thead>\n    <tr style=\"text-align: right;\">\n      <th></th>\n      <th>id</th>\n      <th>anbieter</th>\n      <th>kurzbeschreibung_des_angebotes</th>\n      <th>website</th>\n      <th>zeitliche_begrenzung</th>\n      <th>preis</th>\n      <th>bezirk</th>\n      <th>schlagworte</th>\n    </tr>\n  </thead>\n  <tbody>\n    <tr>\n      <th>0</th>\n      <td>1024</td>\n      <td>1. FC Union Berlin e.V.</td>\n      <td>Ermäßigungen bei allen Fußballspielen im Stadi...</td>\n      <td>http://www.fc-union-berlin.de/de/</td>\n      <td>NaN</td>\n      <td>ab 9 Euro (je nach Verfügbarkeit der Kategorie)</td>\n      <td>Treptow-Köpenick</td>\n      <td>Sport &amp; Spiel, Familie</td>\n    </tr>\n    <tr>\n      <th>1</th>\n      <td>355</td>\n      <td>ABZ im Bürgerhaus Altglienicke</td>\n      <td>25 % bis 35 % Ermäßigung auf den Eintrittsprei...</td>\n      <td>http://www.buergerhaus-altglienicke.de/</td>\n      <td>NaN</td>\n      <td>NaN</td>\n      <td>Treptow-Köpenick</td>\n      <td>Kultur, Konzert, Literatur &amp; Lesungen, Seniore...</td>\n    </tr>\n    <tr>\n      <th>2</th>\n      <td>160</td>\n      <td>ACTivity Schauspielschule</td>\n      <td>10 Euro Ermäßigung auf die Unterrichtsgebühren</td>\n      <td>www.activityschauspielschule.de</td>\n      <td>NaN</td>\n      <td>siehe Homepage</td>\n      <td>Potsdam</td>\n      <td>Theater, Bildung</td>\n    </tr>\n    <tr>\n      <th>3</th>\n      <td>214</td>\n      <td>ACUDkino</td>\n      <td>Ermäßigter Eintritt zu allen Kinovorstellungen</td>\n      <td>https://acudkino.de/</td>\n      <td>NaN</td>\n      <td>Erwachsene 6,00 Euro, Kinder/Jugendliche bis 1...</td>\n      <td>Mitte</td>\n      <td>Kino, Kultur, Familie</td>\n    </tr>\n    <tr>\n      <th>4</th>\n      <td>250</td>\n      <td>Adria Filmtheater</td>\n      <td>Ermäßigter Eintritt Montag bis Mittwoch, zzgl....</td>\n      <td>www.cineplex.de</td>\n      <td>NaN</td>\n      <td>NaN</td>\n      <td>Steglitz-Zehlendorf</td>\n      <td>Kino, Kultur, Familie</td>\n    </tr>\n    <tr>\n      <th>...</th>\n      <td>...</td>\n      <td>...</td>\n      <td>...</td>\n      <td>...</td>\n      <td>...</td>\n      <td>...</td>\n      <td>...</td>\n      <td>...</td>\n    </tr>\n    <tr>\n      <th>361</th>\n      <td>172</td>\n      <td>Zentrum für sexuelle Gesundheit und Familienpl...</td>\n      <td>Berlinpass-Inhaber*innen können die Kostenüber...</td>\n      <td>https://www.berlin.de/ba-mitte/politik-und-ver...</td>\n      <td>NaN</td>\n      <td>kostenfrei nach Einkommensprüfung s. Webseite</td>\n      <td>Mitte</td>\n      <td>Gesundheit, Beratung</td>\n    </tr>\n    <tr>\n      <th>362</th>\n      <td>607</td>\n      <td>Zeughauskino im Deutschen Historischen Museum</td>\n      <td>ermäßigter Eintritt</td>\n      <td>https://www.dhm.de/zeughauskino/</td>\n      <td>NaN</td>\n      <td>Bei Vorlage des Berlinpasses erhalten Berlinpa...</td>\n      <td>Mitte</td>\n      <td>Kultur, Museum &amp; Ausstellung, Kino, Bildung, G...</td>\n    </tr>\n    <tr>\n      <th>363</th>\n      <td>889</td>\n      <td>Zitadelle Spandau</td>\n      <td>ermäßigter Eintritt</td>\n      <td>www.zitadelle-spandau.de</td>\n      <td>NaN</td>\n      <td>2,50 Euro</td>\n      <td>Spandau</td>\n      <td>Museum &amp; Ausstellung, Kultur, Geschichte, Bild...</td>\n    </tr>\n    <tr>\n      <th>364</th>\n      <td>961</td>\n      <td>Zoo Berlin</td>\n      <td>ermäßigter Tageseintritt bzw. ermäßigte Jahres...</td>\n      <td>www.zoo-berlin.de</td>\n      <td>keine</td>\n      <td>siehe zoo-berlin.de/tickets</td>\n      <td>Charlottenburg-Wilmersdorf</td>\n      <td>Natur &amp; Erholung, Familie, Bildung, Museum &amp; A...</td>\n    </tr>\n    <tr>\n      <th>365</th>\n      <td>328</td>\n      <td>„Stars in Concert“ im Estrel Festival Center</td>\n      <td>Mittwoch bis Sonntag Sonderpreis 18 Euro (der ...</td>\n      <td>www.stars-in-concert.de/</td>\n      <td>Das Angebot ist gültig bis 8. September 2023.</td>\n      <td>18 Euro (s. Kurzbeschreibung des Angebots)</td>\n      <td>Neukölln</td>\n      <td>Kultur, Konzert, Familie</td>\n    </tr>\n  </tbody>\n</table>\n<p>366 rows × 8 columns</p>\n</div>"
     },
     "execution_count": 12,
     "metadata": {},
     "output_type": "execute_result"
    }
   ],
   "source": [
    "data"
   ],
   "metadata": {
    "collapsed": false,
    "pycharm": {
     "name": "#%%\n"
    }
   }
  },
  {
   "cell_type": "code",
   "execution_count": 15,
   "outputs": [
    {
     "data": {
      "text/plain": "0                              [Sport & Spiel,  Familie]\n1      [Kultur,  Konzert,  Literatur & Lesungen,  Sen...\n2                                    [Theater,  Bildung]\n3                              [Kino,  Kultur,  Familie]\n4                              [Kino,  Kultur,  Familie]\n                             ...                        \n361                              [Gesundheit,  Beratung]\n362    [Kultur,  Museum & Ausstellung,  Kino,  Bildun...\n363    [Museum & Ausstellung,  Kultur,  Geschichte,  ...\n364    [Natur & Erholung,  Familie,  Bildung,  Museum...\n365                         [Kultur,  Konzert,  Familie]\nName: schlagworte, Length: 366, dtype: object"
     },
     "execution_count": 15,
     "metadata": {},
     "output_type": "execute_result"
    }
   ],
   "source": [
    "data.schlagworte.str.split(',')"
   ],
   "metadata": {
    "collapsed": false,
    "pycharm": {
     "name": "#%%\n"
    }
   }
  },
  {
   "cell_type": "code",
   "execution_count": null,
   "outputs": [],
   "source": [],
   "metadata": {
    "collapsed": false,
    "pycharm": {
     "name": "#%%\n"
    }
   }
  }
 ],
 "metadata": {
  "kernelspec": {
   "display_name": "Python 3",
   "language": "python",
   "name": "python3"
  },
  "language_info": {
   "codemirror_mode": {
    "name": "ipython",
    "version": 2
   },
   "file_extension": ".py",
   "mimetype": "text/x-python",
   "name": "python",
   "nbconvert_exporter": "python",
   "pygments_lexer": "ipython2",
   "version": "2.7.6"
  }
 },
 "nbformat": 4,
 "nbformat_minor": 0
}