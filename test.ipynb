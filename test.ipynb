{
 "cells": [
  {
   "cell_type": "code",
   "execution_count": 2,
   "outputs": [],
   "source": [
    "import pandas as pd"
   ],
   "metadata": {
    "collapsed": false,
    "pycharm": {
     "name": "#%%\n"
    }
   }
  },
  {
   "cell_type": "code",
   "execution_count": 3,
   "metadata": {
    "collapsed": true
   },
   "outputs": [],
   "source": [
    "df = pd.read_csv('data.csv', delimiter=';')"
   ]
  },
  {
   "cell_type": "code",
   "execution_count": 4,
   "outputs": [
    {
     "data": {
      "text/plain": "       id                                      anbieter  \\\n0    1024                       1. FC Union Berlin e.V.   \n1    1024                       1. FC Union Berlin e.V.   \n2     355                ABZ im Bürgerhaus Altglienicke   \n3     355                ABZ im Bürgerhaus Altglienicke   \n4     355                ABZ im Bürgerhaus Altglienicke   \n..    ...                                           ...   \n843   961                                    Zoo Berlin   \n844   961                                    Zoo Berlin   \n845   328  „Stars in Concert“ im Estrel Festival Center   \n846   328  „Stars in Concert“ im Estrel Festival Center   \n847   328  „Stars in Concert“ im Estrel Festival Center   \n\n                        kurzbeschreibung_des_angebotes  \\\n0    Ermäßigungen bei allen Fußballspielen im Stadi...   \n1    Ermäßigungen bei allen Fußballspielen im Stadi...   \n2    25 % bis 35 % Ermäßigung auf den Eintrittsprei...   \n3    25 % bis 35 % Ermäßigung auf den Eintrittsprei...   \n4    25 % bis 35 % Ermäßigung auf den Eintrittsprei...   \n..                                                 ...   \n843  ermäßigter Tageseintritt bzw. ermäßigte Jahres...   \n844  ermäßigter Tageseintritt bzw. ermäßigte Jahres...   \n845  Mittwoch bis Sonntag Sonderpreis 18 Euro (der ...   \n846  Mittwoch bis Sonntag Sonderpreis 18 Euro (der ...   \n847  Mittwoch bis Sonntag Sonderpreis 18 Euro (der ...   \n\n                                     website  \\\n0          http://www.fc-union-berlin.de/de/   \n1          http://www.fc-union-berlin.de/de/   \n2    http://www.buergerhaus-altglienicke.de/   \n3    http://www.buergerhaus-altglienicke.de/   \n4    http://www.buergerhaus-altglienicke.de/   \n..                                       ...   \n843                        www.zoo-berlin.de   \n844                        www.zoo-berlin.de   \n845                 www.stars-in-concert.de/   \n846                 www.stars-in-concert.de/   \n847                 www.stars-in-concert.de/   \n\n                              zeitliche_begrenzung  \\\n0                                                -   \n1                                                -   \n2                                                -   \n3                                                -   \n4                                                -   \n..                                             ...   \n843                                          keine   \n844                                          keine   \n845  Das Angebot ist gültig bis 8. September 2023.   \n846  Das Angebot ist gültig bis 8. September 2023.   \n847  Das Angebot ist gültig bis 8. September 2023.   \n\n                                               preis  \\\n0    ab 9 Euro (je nach Verfügbarkeit der Kategorie)   \n1    ab 9 Euro (je nach Verfügbarkeit der Kategorie)   \n2                                                  -   \n3                                                  -   \n4                                                  -   \n..                                               ...   \n843                      siehe zoo-berlin.de/tickets   \n844                      siehe zoo-berlin.de/tickets   \n845       18 Euro (s. Kurzbeschreibung des Angebots)   \n846       18 Euro (s. Kurzbeschreibung des Angebots)   \n847       18 Euro (s. Kurzbeschreibung des Angebots)   \n\n                         bezirk  \\\n0              Treptow-Köpenick   \n1              Treptow-Köpenick   \n2              Treptow-Köpenick   \n3              Treptow-Köpenick   \n4              Treptow-Köpenick   \n..                          ...   \n843  Charlottenburg-Wilmersdorf   \n844  Charlottenburg-Wilmersdorf   \n845                    Neukölln   \n846                    Neukölln   \n847                    Neukölln   \n\n                                           schlagworte  \\\n0                               Sport & Spiel, Familie   \n1                               Sport & Spiel, Familie   \n2    Kultur, Konzert, Literatur & Lesungen, Seniore...   \n3    Kultur, Konzert, Literatur & Lesungen, Seniore...   \n4    Kultur, Konzert, Literatur & Lesungen, Seniore...   \n..                                                 ...   \n843  Natur & Erholung, Familie, Bildung, Museum & A...   \n844  Natur & Erholung, Familie, Bildung, Museum & A...   \n845                           Kultur, Konzert, Familie   \n846                           Kultur, Konzert, Familie   \n847                           Kultur, Konzert, Familie   \n\n                                       services  \n0                                Sport & Health  \n1                         Family Care & Support  \n2                              Work & Education  \n3    Cultural Activities & Free Time Activities  \n4                                 Senior Center  \n..                                          ...  \n843                            Work & Education  \n844  Cultural Activities & Free Time Activities  \n845                            Work & Education  \n846  Cultural Activities & Free Time Activities  \n847                       Family Care & Support  \n\n[848 rows x 9 columns]",
      "text/html": "<div>\n<style scoped>\n    .dataframe tbody tr th:only-of-type {\n        vertical-align: middle;\n    }\n\n    .dataframe tbody tr th {\n        vertical-align: top;\n    }\n\n    .dataframe thead th {\n        text-align: right;\n    }\n</style>\n<table border=\"1\" class=\"dataframe\">\n  <thead>\n    <tr style=\"text-align: right;\">\n      <th></th>\n      <th>id</th>\n      <th>anbieter</th>\n      <th>kurzbeschreibung_des_angebotes</th>\n      <th>website</th>\n      <th>zeitliche_begrenzung</th>\n      <th>preis</th>\n      <th>bezirk</th>\n      <th>schlagworte</th>\n      <th>services</th>\n    </tr>\n  </thead>\n  <tbody>\n    <tr>\n      <th>0</th>\n      <td>1024</td>\n      <td>1. FC Union Berlin e.V.</td>\n      <td>Ermäßigungen bei allen Fußballspielen im Stadi...</td>\n      <td>http://www.fc-union-berlin.de/de/</td>\n      <td>-</td>\n      <td>ab 9 Euro (je nach Verfügbarkeit der Kategorie)</td>\n      <td>Treptow-Köpenick</td>\n      <td>Sport &amp; Spiel, Familie</td>\n      <td>Sport &amp; Health</td>\n    </tr>\n    <tr>\n      <th>1</th>\n      <td>1024</td>\n      <td>1. FC Union Berlin e.V.</td>\n      <td>Ermäßigungen bei allen Fußballspielen im Stadi...</td>\n      <td>http://www.fc-union-berlin.de/de/</td>\n      <td>-</td>\n      <td>ab 9 Euro (je nach Verfügbarkeit der Kategorie)</td>\n      <td>Treptow-Köpenick</td>\n      <td>Sport &amp; Spiel, Familie</td>\n      <td>Family Care &amp; Support</td>\n    </tr>\n    <tr>\n      <th>2</th>\n      <td>355</td>\n      <td>ABZ im Bürgerhaus Altglienicke</td>\n      <td>25 % bis 35 % Ermäßigung auf den Eintrittsprei...</td>\n      <td>http://www.buergerhaus-altglienicke.de/</td>\n      <td>-</td>\n      <td>-</td>\n      <td>Treptow-Köpenick</td>\n      <td>Kultur, Konzert, Literatur &amp; Lesungen, Seniore...</td>\n      <td>Work &amp; Education</td>\n    </tr>\n    <tr>\n      <th>3</th>\n      <td>355</td>\n      <td>ABZ im Bürgerhaus Altglienicke</td>\n      <td>25 % bis 35 % Ermäßigung auf den Eintrittsprei...</td>\n      <td>http://www.buergerhaus-altglienicke.de/</td>\n      <td>-</td>\n      <td>-</td>\n      <td>Treptow-Köpenick</td>\n      <td>Kultur, Konzert, Literatur &amp; Lesungen, Seniore...</td>\n      <td>Cultural Activities &amp; Free Time Activities</td>\n    </tr>\n    <tr>\n      <th>4</th>\n      <td>355</td>\n      <td>ABZ im Bürgerhaus Altglienicke</td>\n      <td>25 % bis 35 % Ermäßigung auf den Eintrittsprei...</td>\n      <td>http://www.buergerhaus-altglienicke.de/</td>\n      <td>-</td>\n      <td>-</td>\n      <td>Treptow-Köpenick</td>\n      <td>Kultur, Konzert, Literatur &amp; Lesungen, Seniore...</td>\n      <td>Senior Center</td>\n    </tr>\n    <tr>\n      <th>...</th>\n      <td>...</td>\n      <td>...</td>\n      <td>...</td>\n      <td>...</td>\n      <td>...</td>\n      <td>...</td>\n      <td>...</td>\n      <td>...</td>\n      <td>...</td>\n    </tr>\n    <tr>\n      <th>843</th>\n      <td>961</td>\n      <td>Zoo Berlin</td>\n      <td>ermäßigter Tageseintritt bzw. ermäßigte Jahres...</td>\n      <td>www.zoo-berlin.de</td>\n      <td>keine</td>\n      <td>siehe zoo-berlin.de/tickets</td>\n      <td>Charlottenburg-Wilmersdorf</td>\n      <td>Natur &amp; Erholung, Familie, Bildung, Museum &amp; A...</td>\n      <td>Work &amp; Education</td>\n    </tr>\n    <tr>\n      <th>844</th>\n      <td>961</td>\n      <td>Zoo Berlin</td>\n      <td>ermäßigter Tageseintritt bzw. ermäßigte Jahres...</td>\n      <td>www.zoo-berlin.de</td>\n      <td>keine</td>\n      <td>siehe zoo-berlin.de/tickets</td>\n      <td>Charlottenburg-Wilmersdorf</td>\n      <td>Natur &amp; Erholung, Familie, Bildung, Museum &amp; A...</td>\n      <td>Cultural Activities &amp; Free Time Activities</td>\n    </tr>\n    <tr>\n      <th>845</th>\n      <td>328</td>\n      <td>„Stars in Concert“ im Estrel Festival Center</td>\n      <td>Mittwoch bis Sonntag Sonderpreis 18 Euro (der ...</td>\n      <td>www.stars-in-concert.de/</td>\n      <td>Das Angebot ist gültig bis 8. September 2023.</td>\n      <td>18 Euro (s. Kurzbeschreibung des Angebots)</td>\n      <td>Neukölln</td>\n      <td>Kultur, Konzert, Familie</td>\n      <td>Work &amp; Education</td>\n    </tr>\n    <tr>\n      <th>846</th>\n      <td>328</td>\n      <td>„Stars in Concert“ im Estrel Festival Center</td>\n      <td>Mittwoch bis Sonntag Sonderpreis 18 Euro (der ...</td>\n      <td>www.stars-in-concert.de/</td>\n      <td>Das Angebot ist gültig bis 8. September 2023.</td>\n      <td>18 Euro (s. Kurzbeschreibung des Angebots)</td>\n      <td>Neukölln</td>\n      <td>Kultur, Konzert, Familie</td>\n      <td>Cultural Activities &amp; Free Time Activities</td>\n    </tr>\n    <tr>\n      <th>847</th>\n      <td>328</td>\n      <td>„Stars in Concert“ im Estrel Festival Center</td>\n      <td>Mittwoch bis Sonntag Sonderpreis 18 Euro (der ...</td>\n      <td>www.stars-in-concert.de/</td>\n      <td>Das Angebot ist gültig bis 8. September 2023.</td>\n      <td>18 Euro (s. Kurzbeschreibung des Angebots)</td>\n      <td>Neukölln</td>\n      <td>Kultur, Konzert, Familie</td>\n      <td>Family Care &amp; Support</td>\n    </tr>\n  </tbody>\n</table>\n<p>848 rows × 9 columns</p>\n</div>"
     },
     "execution_count": 4,
     "metadata": {},
     "output_type": "execute_result"
    }
   ],
   "source": [
    "df"
   ],
   "metadata": {
    "collapsed": false,
    "pycharm": {
     "name": "#%%\n"
    }
   }
  },
  {
   "cell_type": "code",
   "execution_count": 14,
   "outputs": [],
   "source": [
    "search = 'ABZ'\n",
    "filter_search =  df.apply(lambda row: row.astype(str).str.contains(search).any(), axis=1)"
   ],
   "metadata": {
    "collapsed": false,
    "pycharm": {
     "name": "#%%\n"
    }
   }
  },
  {
   "cell_type": "code",
   "execution_count": 15,
   "outputs": [
    {
     "data": {
      "text/plain": "    id                        anbieter  \\\n2  355  ABZ im Bürgerhaus Altglienicke   \n3  355  ABZ im Bürgerhaus Altglienicke   \n4  355  ABZ im Bürgerhaus Altglienicke   \n\n                      kurzbeschreibung_des_angebotes  \\\n2  25 % bis 35 % Ermäßigung auf den Eintrittsprei...   \n3  25 % bis 35 % Ermäßigung auf den Eintrittsprei...   \n4  25 % bis 35 % Ermäßigung auf den Eintrittsprei...   \n\n                                   website zeitliche_begrenzung preis  \\\n2  http://www.buergerhaus-altglienicke.de/                    -     -   \n3  http://www.buergerhaus-altglienicke.de/                    -     -   \n4  http://www.buergerhaus-altglienicke.de/                    -     -   \n\n             bezirk                                        schlagworte  \\\n2  Treptow-Köpenick  Kultur, Konzert, Literatur & Lesungen, Seniore...   \n3  Treptow-Köpenick  Kultur, Konzert, Literatur & Lesungen, Seniore...   \n4  Treptow-Köpenick  Kultur, Konzert, Literatur & Lesungen, Seniore...   \n\n                                     services  \n2                            Work & Education  \n3  Cultural Activities & Free Time Activities  \n4                               Senior Center  ",
      "text/html": "<div>\n<style scoped>\n    .dataframe tbody tr th:only-of-type {\n        vertical-align: middle;\n    }\n\n    .dataframe tbody tr th {\n        vertical-align: top;\n    }\n\n    .dataframe thead th {\n        text-align: right;\n    }\n</style>\n<table border=\"1\" class=\"dataframe\">\n  <thead>\n    <tr style=\"text-align: right;\">\n      <th></th>\n      <th>id</th>\n      <th>anbieter</th>\n      <th>kurzbeschreibung_des_angebotes</th>\n      <th>website</th>\n      <th>zeitliche_begrenzung</th>\n      <th>preis</th>\n      <th>bezirk</th>\n      <th>schlagworte</th>\n      <th>services</th>\n    </tr>\n  </thead>\n  <tbody>\n    <tr>\n      <th>2</th>\n      <td>355</td>\n      <td>ABZ im Bürgerhaus Altglienicke</td>\n      <td>25 % bis 35 % Ermäßigung auf den Eintrittsprei...</td>\n      <td>http://www.buergerhaus-altglienicke.de/</td>\n      <td>-</td>\n      <td>-</td>\n      <td>Treptow-Köpenick</td>\n      <td>Kultur, Konzert, Literatur &amp; Lesungen, Seniore...</td>\n      <td>Work &amp; Education</td>\n    </tr>\n    <tr>\n      <th>3</th>\n      <td>355</td>\n      <td>ABZ im Bürgerhaus Altglienicke</td>\n      <td>25 % bis 35 % Ermäßigung auf den Eintrittsprei...</td>\n      <td>http://www.buergerhaus-altglienicke.de/</td>\n      <td>-</td>\n      <td>-</td>\n      <td>Treptow-Köpenick</td>\n      <td>Kultur, Konzert, Literatur &amp; Lesungen, Seniore...</td>\n      <td>Cultural Activities &amp; Free Time Activities</td>\n    </tr>\n    <tr>\n      <th>4</th>\n      <td>355</td>\n      <td>ABZ im Bürgerhaus Altglienicke</td>\n      <td>25 % bis 35 % Ermäßigung auf den Eintrittsprei...</td>\n      <td>http://www.buergerhaus-altglienicke.de/</td>\n      <td>-</td>\n      <td>-</td>\n      <td>Treptow-Köpenick</td>\n      <td>Kultur, Konzert, Literatur &amp; Lesungen, Seniore...</td>\n      <td>Senior Center</td>\n    </tr>\n  </tbody>\n</table>\n</div>"
     },
     "execution_count": 15,
     "metadata": {},
     "output_type": "execute_result"
    }
   ],
   "source": [
    "df[filter_search]"
   ],
   "metadata": {
    "collapsed": false,
    "pycharm": {
     "name": "#%%\n"
    }
   }
  },
  {
   "cell_type": "code",
   "execution_count": null,
   "outputs": [],
   "source": [],
   "metadata": {
    "collapsed": false,
    "pycharm": {
     "name": "#%%\n"
    }
   }
  }
 ],
 "metadata": {
  "kernelspec": {
   "display_name": "Python 3",
   "language": "python",
   "name": "python3"
  },
  "language_info": {
   "codemirror_mode": {
    "name": "ipython",
    "version": 2
   },
   "file_extension": ".py",
   "mimetype": "text/x-python",
   "name": "python",
   "nbconvert_exporter": "python",
   "pygments_lexer": "ipython2",
   "version": "2.7.6"
  }
 },
 "nbformat": 4,
 "nbformat_minor": 0
}